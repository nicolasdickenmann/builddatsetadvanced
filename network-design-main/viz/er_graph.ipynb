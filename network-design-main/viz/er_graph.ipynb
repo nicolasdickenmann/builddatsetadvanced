{
 "cells": [
  {
   "cell_type": "code",
   "execution_count": 1,
   "id": "cd9dd1ab",
   "metadata": {
    "scrolled": false
   },
   "outputs": [],
   "source": [
    "# general imports, basic globals\n",
    "\n",
    "import io\n",
    "import sys\n",
    "import subprocess \n",
    "import copy\n",
    "import pandas as pd\n",
    "import numpy as np\n",
    "import pyvista as pv\n",
    "\n",
    "from gfq import *\n",
    "from graph_viz import *\n",
    "from graph_classes import *\n",
    "\n",
    "# Define some colors, for the vertices and edges, used in default markings for L,W,C,V1,V2\n",
    "RED = '#FF0000'\n",
    "DK_RED = '#990000'\n",
    "LT_GREEN = '#44FF44'\n",
    "DK_GREEN = '#009900'\n",
    "LT_BLUE = '#0088FF'\n"
   ]
  },
  {
   "cell_type": "code",
   "execution_count": 2,
   "id": "ff684e32",
   "metadata": {},
   "outputs": [],
   "source": [
    "# the ER Graph class\n",
    "\n",
    "class ER(Graph):\n",
    "        \n",
    "    def set_vertex_list(self, q):\n",
    "        # generates left-normalized vertices over GF(q)^3 in lexicographic order \n",
    "        self.q = q\n",
    "        vertex_list = [Vertex([0,0,1])]\n",
    "        for i in range(0,self.q):\n",
    "            vertex_list.append(Vertex([0,1,i]))\n",
    "        for i in range(0,self.q):\n",
    "            for j in range(0,self.q):\n",
    "                vertex_list.append(Vertex([1,i,j]))\n",
    "        return vertex_list, len(vertex_list)\n",
    "    \n",
    "    def set_adjacency_matrix(self):\n",
    "        # adjacency_matrix[i,j] is 1 if vertex_list[i].value is orthogonal to vertex_list[j].value and 0 otherwise\n",
    "        self.gfq = GFq(self.q)\n",
    "        num_vertices = len(self.vertex_list)\n",
    "        adj_matrix = []\n",
    "        for i in range(num_vertices):\n",
    "            row = [0]*num_vertices\n",
    "            adj_matrix.append(row)\n",
    "        for i in range(num_vertices):\n",
    "            d = self.gfq.dot_product_3d(self.vertex_list[i].value, self.vertex_list[i].value)\n",
    "            if d==0:\n",
    "                adj_matrix[i][i]=1\n",
    "        for i in range(num_vertices):\n",
    "            for j in range(i+1,num_vertices):\n",
    "                d = self.gfq.dot_product_3d(self.vertex_list[i].value, self.vertex_list[j].value)\n",
    "                if d==0:\n",
    "                    adj_matrix[i][j]=1\n",
    "                    adj_matrix[j][i]=1\n",
    "        return adj_matrix\n",
    "    \n",
    "    def set_layouts(self):\n",
    "        self.layouts = ER_Layouts(self)\n",
    "    \n",
    "    def init_stuff(self):\n",
    "        # the next is specific to ER graphs\n",
    "        self.L,self.W,self.C,self.V1,self.V2 = self.get_LWCV_subsets_ER()        \n",
    "        if q<17:\n",
    "            self.edges_list.list[0].opacity = 0.2\n",
    "        elif q<27:\n",
    "            self.edges_list.list[0].opacity = 0.08\n",
    "        elif q<47:\n",
    "            self.edges_list.list[0].opacity = 0.02\n",
    "        elif q<63:\n",
    "            self.edges_list.list[0].opacity = 0.01\n",
    "        elif q<129:\n",
    "            self.edges_list.list[0].opacity = 0.001\n",
    "        else:\n",
    "            self.edges_list.list[0].opacity = 0.0002\n",
    "    \n",
    "    def get_LWCV_subsets_ER(self):\n",
    "        L_color = RED\n",
    "        W_color = DK_RED\n",
    "        C_color = LT_GREEN\n",
    "        V1_color = DK_GREEN\n",
    "        V2_color = LT_BLUE\n",
    "        L=[]\n",
    "        W=[]\n",
    "        # make W\n",
    "        for i in range(self.num_vertices):\n",
    "            if self.adj_matrix[i][i]==1:\n",
    "                W.append(i)\n",
    "                self.vertex_list[i].color = W_color\n",
    "        # grab the starter quadric L out of W: the first element of W\n",
    "        L.append(W[0])\n",
    "        self.vertex_list[W[0]].color = L_color\n",
    "        W.pop(0)\n",
    "        C=[]\n",
    "        V1=[]\n",
    "        for i in range(self.num_vertices):\n",
    "            if (i not in L) and (i not in W) and self.adj_matrix[L[0]][i]==1:\n",
    "                C.append(i)   \n",
    "                self.vertex_list[i].color = C_color\n",
    "        for i in range(self.num_vertices):\n",
    "            if (i not in L) and (i not in W) and (i not in C):\n",
    "                for j in W:\n",
    "                    if self.adj_matrix[i][j]==1:\n",
    "                        V1.append(i)\n",
    "                        self.vertex_list[i].color = V1_color\n",
    "                        break  # only need to be orthogonal to one member of W\n",
    "        V2 = list(set(range(self.num_vertices)) - set(L+W+C+V1))\n",
    "        for i in V2:\n",
    "            self.vertex_list[i].color = V2_color\n",
    "        return (L, W, C, V1, V2)\n",
    "\n",
    "    def get_cluster_ER(self, c):\n",
    "    # get the cluster generated from a given center element\n",
    "        clusterptrs=[c]\n",
    "        for i in range(self.num_vertices):\n",
    "            if self.adj_matrix[c][i]==1 and self.adj_matrix[i][i]==0:\n",
    "                clusterptrs.append(i)\n",
    "        return clusterptrs\n",
    "    \n",
    "    def get_all_clusters_ER(self):\n",
    "    # get the cluster generated from a given quadric and center element\n",
    "        clusters=[]\n",
    "        for i in range(q):\n",
    "            cluster=[self.C[i]]\n",
    "            for j in range(self.num_vertices):\n",
    "                if self.adj_matrix[self.C[i]][j]==1 and self.adj_matrix[j][j]==0:\n",
    "                    cluster.append(j)\n",
    "            clusters.append(cluster)\n",
    "        return clusters\n",
    "    \n",
    "    def set_interesting_edgelists_ER(self):\n",
    "        cluster_main = self.get_cluster_ER(self.C[0])\n",
    "        ee = self.get_edges_within_indexset(cluster_main, 'black', 1.0, 3)\n",
    "        self.edges_list.list.append(self.get_edges_within_indexset(cluster_main, 'black', 1.0, 3))\n",
    "        self.edges_list.names.append('cluster')\n",
    "\n",
    "        self.edges_list.list.append(self.get_edges_between_indexsets(cluster_main, self.W+self.L, 'red', 1.0, 3))\n",
    "        self.edges_list.names.append('cluster_to_quadrics')\n",
    "\n",
    "        cluster_nbr = self.get_cluster_ER(self.C[len(self.C)-1])\n",
    "        self.edges_list.list.append(self.get_edges_within_indexset(cluster_nbr, 'black', 1.0, 3)) \n",
    "        self.edges_list.names.append('cluster_nbr')\n",
    "\n",
    "        cluster_nbr_V1 = list(set(cluster_nbr) & set(self.V1))\n",
    "        self.edges_list.list.append(self.get_edges_between_indexsets(cluster_main, cluster_nbr_V1, LT_GREEN, 1.0, 3)) \n",
    "        self.edges_list.names.append('cluster_to_nbrV1')\n",
    "\n",
    "        cluster_nbr_V2 = list(set(cluster_nbr) & set(self.V2))\n",
    "        self.edges_list.list.append(self.get_edges_between_indexsets(cluster_main, cluster_nbr_V2, LT_BLUE, 1.0, 3)) \n",
    "        self.edges_list.names.append('cluster_to_nbrV2')\n",
    "\n",
    "        clusters_all=[]\n",
    "        es = Edgeset('black', 1.0, 2)\n",
    "        for i in range(len(self.C)):\n",
    "            clusters_all.append(self.get_cluster_ER(self.C[i]) )\n",
    "            cluster_es = self.get_edges_within_indexset(clusters_all[i], 'black', 1.0, 3)\n",
    "            es.concatenate_edgesets(cluster_es.edges)\n",
    "        self.edges_list.list.append(es)\n",
    "        self.edges_list.names.append('all_clusters')\n",
    "        \n",
    "        return self.edges_list, self.edges_list.names\n",
    "\n"
   ]
  },
  {
   "cell_type": "code",
   "execution_count": 3,
   "id": "ca7c9ab9",
   "metadata": {},
   "outputs": [],
   "source": [
    "class ER_Layouts(Layouts):\n",
    "    \n",
    "    def set_layouts_ER(self): \n",
    "    # in addition to the clockwise default\n",
    "        self.add_layout(self.good_layout_ER(), 'good') \n",
    "        self.add_layout(self.cake_layout_ER(), 'cake')\n",
    "        return self.layout_list, self.layout_names\n",
    "            \n",
    "    def good_layout_ER(self):\n",
    "    # this method permutes the positions of the vertices in a way that helps to show how clusters are made\n",
    "        # copy the good layout: cake_layout is based on good_layout\n",
    "        vpos_list = self.graph.num_vertices*[[0,0,0]]\n",
    "        floor_q_half = int((self.graph.q-1)/2)\n",
    "        ceil_q_half = int((self.graph.q+1)/2)\n",
    "        angle_increment = 2*np.pi/self.graph.num_vertices    \n",
    "        \n",
    "        # L: place it (q+1)/2 to the left of the top\n",
    "        vpos_list[self.graph.L[0]] = self.circle_pos(self.graph.num_vertices-ceil_q_half)\n",
    "        # C: place these spread over the top of the circle\n",
    "        for i in range(self.graph.q):\n",
    "            vpos_list[self.graph.C[i]] = self.circle_pos((i - floor_q_half)%self.graph.num_vertices)\n",
    "        current_pos = ceil_q_half        \n",
    "        # W, V1, V2\n",
    "        count = 1\n",
    "        for i in range(self.graph.q):      \n",
    "            # W: interspersed between each \"rack\" C_i of V1 and V2 points\n",
    "            if i == floor_q_half:    # put this one opposite L[0]\n",
    "                cir_pos = ceil_q_half\n",
    "            else:  # the rest are corresponding to C[i]\n",
    "                cir_pos = self.graph.num_vertices-ceil_q_half-count*self.graph.q\n",
    "                count += 1\n",
    "            for j in range(self.graph.q):\n",
    "                if self.graph.C[i] in self.graph.vertex_list[self.graph.W[j]].adj:\n",
    "                    vpos_list[self.graph.W[j]] = self.circle_pos(cir_pos)                \n",
    "            # V1 and V2: to points corresponding to their cluster centers from C\n",
    "            V1_Ci=[]\n",
    "            V2_Ci=[]\n",
    "            for j in range(len(self.graph.V1)):\n",
    "                if self.graph.adj_matrix[self.graph.V1[j]][self.graph.C[q-1-i]]==1:\n",
    "                    V1_Ci.append(self.graph.V1[j])\n",
    "                if self.graph.adj_matrix[self.graph.V2[j]][self.graph.C[q-1-i]]==1:\n",
    "                    V2_Ci.append(self.graph.V2[j])\n",
    "            current_pos += 1\n",
    "            if (self.graph.q%4 == 3): \n",
    "                for j in range(floor_q_half):\n",
    "                    # move the jth V1_Ci\n",
    "                    vpos_list[V1_Ci[j]] = self.circle_pos(current_pos)\n",
    "                    current_pos += 1\n",
    "                    #  and match it up with the V2 that is orthogonal\n",
    "                    for k in range(floor_q_half):\n",
    "                        if V2_Ci[k] in self.graph.vertex_list[V1_Ci[j]].adj:\n",
    "                            vpos_list[V2_Ci[k]] = self.circle_pos(current_pos)\n",
    "                            current_pos += 1\n",
    "                            break # once you've found it, don't need to go on any farther\n",
    "            else:   # q%4 == 1\n",
    "                # we'll move through the elts of V1 and V2, popping the pair every time we find a twinned match\n",
    "                for j in range(int((self.graph.q-1)/4)): \n",
    "                    # pick the first V1 and V2 (any one not picked will do), alternate these\n",
    "                    vpos_list[V1_Ci[0]] = self.circle_pos(current_pos)\n",
    "                    current_pos += 1\n",
    "                    #pick twins of V1_temp[0]\n",
    "                    for k in range(1,floor_q_half):\n",
    "                        if V1_Ci[k] in self.graph.vertex_list[V1_Ci[0]].adj:\n",
    "                            vpos_list[V1_Ci[k]] = self.circle_pos(current_pos)\n",
    "                            V1_Ci.pop(k)\n",
    "                            V1_Ci.pop(0)\n",
    "                            current_pos += 1\n",
    "                            break # once you've found it, don't need to go on any farther\n",
    "                    vpos_list[V2_Ci[0]] = self.circle_pos(current_pos)\n",
    "                    current_pos += 1\n",
    "                    #pick twins of V2_temp[0]\n",
    "                    for k in range(1,floor_q_half):\n",
    "                        if V2_Ci[k] in self.graph.vertex_list[V2_Ci[0]].adj:\n",
    "                            vpos_list[V2_Ci[k]] = self.circle_pos(current_pos)\n",
    "                            V2_Ci.pop(k)\n",
    "                            V2_Ci.pop(0)\n",
    "                            current_pos += 1\n",
    "                            break # once you've found it, don't need to go on any farther               \n",
    "        return vpos_list\n",
    "\n",
    "    def cake_layout_ER(self):\n",
    "    # copy the good layout: cake_layout is based on good_layout\n",
    "        vpos_list = []\n",
    "        for i in range(self.graph.num_vertices):\n",
    "            vpos_list.append(copy.deepcopy(self.graph.vertex_list[i].pos[1]) )      \n",
    "    # L,W: move away from the viewer and into the center, starting_angle=0, height=-1\n",
    "        LW = self.graph.L+self.graph.W\n",
    "        radius_W = .25\n",
    "        LW_vpos_list = self.all_circle_positions(LW, 0, radius_W, -1.0)\n",
    "        vpos_list[self.graph.L[0]] = LW_vpos_list[0]\n",
    "        for i in range(self.graph.q):\n",
    "            vpos_list[self.graph.W[i]] = LW_vpos_list[i+1]\n",
    "    # C: Move into the center, starting_angle=-np.pi/q, height=-0\n",
    "        radius_C= 1.5*radius_W\n",
    "        C_vpos_list = self.all_circle_positions(self.graph.C, -np.pi/q, radius_C, 0)\n",
    "        for i in range(self.graph.q):\n",
    "            vpos_list[self.graph.C[i]] = C_vpos_list[i]\n",
    "    # V1: leave them where they are in the good layout\n",
    "    # V2: Move the toward the viewer at positive z\n",
    "        for i in range(len(self.graph.V2)):        \n",
    "            vpos_list[self.graph.V2[i]][2] += 1.0\n",
    "    # This permutation on the quadrics is used in the paper (Fig. 7) to cleanly show quadrics connections for q=7        \n",
    "        if self.graph.q == 7:\n",
    "            for i in range(self.graph.q+1):\n",
    "                LW_vpos_list[i] = vpos_list[LW[i]]\n",
    "            new_LW_vpos_list = self.permute_pos(LW_vpos_list, [[0,1,2,4,6,7]])\n",
    "            for i in range(self.graph.q+1):\n",
    "                vpos_list[LW[i]] = new_LW_vpos_list[i]\n",
    "        return vpos_list\n"
   ]
  },
  {
   "cell_type": "code",
   "execution_count": 7,
   "id": "20e0a9b0",
   "metadata": {
    "scrolled": false
   },
   "outputs": [
    {
     "name": "stdout",
     "output_type": "stream",
     "text": [
      "GF(7): a subgraph, good layout\n"
     ]
    },
    {
     "data": {
      "application/vnd.jupyter.widget-view+json": {
       "model_id": "b75655d945ee4add881948cbe7ccda05",
       "version_major": 2,
       "version_minor": 0
      },
      "text/plain": [
       "ViewInteractiveWidget(height=2000, layout=Layout(height='auto', width='100%'), width=2000)"
      ]
     },
     "metadata": {},
     "output_type": "display_data"
    },
    {
     "name": "stdout",
     "output_type": "stream",
     "text": [
      "GF(7): Lexicographic layout\n"
     ]
    },
    {
     "data": {
      "application/vnd.jupyter.widget-view+json": {
       "model_id": "71b70287836048edbd7c72ce1288a8e7",
       "version_major": 2,
       "version_minor": 0
      },
      "text/plain": [
       "ViewInteractiveWidget(height=2000, layout=Layout(height='auto', width='100%'), width=2000)"
      ]
     },
     "metadata": {},
     "output_type": "display_data"
    },
    {
     "name": "stdout",
     "output_type": "stream",
     "text": [
      "GF(7): Good layout\n"
     ]
    },
    {
     "data": {
      "application/vnd.jupyter.widget-view+json": {
       "model_id": "fd0a5349ab924bfdb8080e61c9abde4d",
       "version_major": 2,
       "version_minor": 0
      },
      "text/plain": [
       "ViewInteractiveWidget(height=2000, layout=Layout(height='auto', width='100%'), width=2000)"
      ]
     },
     "metadata": {},
     "output_type": "display_data"
    },
    {
     "name": "stdout",
     "output_type": "stream",
     "text": [
      "GF(7): Layer cake, two clusters plus external edges\n"
     ]
    },
    {
     "data": {
      "application/vnd.jupyter.widget-view+json": {
       "model_id": "0ecf839896f946829435c73d242021ce",
       "version_major": 2,
       "version_minor": 0
      },
      "text/plain": [
       "ViewInteractiveWidget(height=2000, layout=Layout(height='auto', width='100%'), width=2000)"
      ]
     },
     "metadata": {},
     "output_type": "display_data"
    },
    {
     "name": "stdout",
     "output_type": "stream",
     "text": [
      "GF(7): Layer cake, all clusters, overhead\n"
     ]
    },
    {
     "data": {
      "application/vnd.jupyter.widget-view+json": {
       "model_id": "bd25516ab6f14e9d8c1e80c1c93a52a1",
       "version_major": 2,
       "version_minor": 0
      },
      "text/plain": [
       "ViewInteractiveWidget(height=2000, layout=Layout(height='auto', width='100%'), width=2000)"
      ]
     },
     "metadata": {},
     "output_type": "display_data"
    },
    {
     "name": "stdout",
     "output_type": "stream",
     "text": [
      "GF(9): a subgraph, good layout\n"
     ]
    },
    {
     "data": {
      "application/vnd.jupyter.widget-view+json": {
       "model_id": "d345c88868f84bcdb2b61b3863e44b5c",
       "version_major": 2,
       "version_minor": 0
      },
      "text/plain": [
       "ViewInteractiveWidget(height=2000, layout=Layout(height='auto', width='100%'), width=2000)"
      ]
     },
     "metadata": {},
     "output_type": "display_data"
    },
    {
     "name": "stdout",
     "output_type": "stream",
     "text": [
      "GF(9): Lexicographic layout\n"
     ]
    },
    {
     "data": {
      "application/vnd.jupyter.widget-view+json": {
       "model_id": "4c7fb53f0a7e49a9ba0092d0bbcf5126",
       "version_major": 2,
       "version_minor": 0
      },
      "text/plain": [
       "ViewInteractiveWidget(height=2000, layout=Layout(height='auto', width='100%'), width=2000)"
      ]
     },
     "metadata": {},
     "output_type": "display_data"
    },
    {
     "name": "stdout",
     "output_type": "stream",
     "text": [
      "GF(9): Good layout\n"
     ]
    },
    {
     "data": {
      "application/vnd.jupyter.widget-view+json": {
       "model_id": "f70a63b3e8ef4019842695da230d66ae",
       "version_major": 2,
       "version_minor": 0
      },
      "text/plain": [
       "ViewInteractiveWidget(height=2000, layout=Layout(height='auto', width='100%'), width=2000)"
      ]
     },
     "metadata": {},
     "output_type": "display_data"
    },
    {
     "name": "stdout",
     "output_type": "stream",
     "text": [
      "GF(9): Layer cake, two clusters plus external edges\n"
     ]
    },
    {
     "data": {
      "application/vnd.jupyter.widget-view+json": {
       "model_id": "eae58a29d5ba4156b93e0686aae6c286",
       "version_major": 2,
       "version_minor": 0
      },
      "text/plain": [
       "ViewInteractiveWidget(height=2000, layout=Layout(height='auto', width='100%'), width=2000)"
      ]
     },
     "metadata": {},
     "output_type": "display_data"
    },
    {
     "name": "stdout",
     "output_type": "stream",
     "text": [
      "GF(9): Layer cake, all clusters, overhead\n"
     ]
    },
    {
     "data": {
      "application/vnd.jupyter.widget-view+json": {
       "model_id": "78fd9faa90e54c20a1ed135a22457de7",
       "version_major": 2,
       "version_minor": 0
      },
      "text/plain": [
       "ViewInteractiveWidget(height=2000, layout=Layout(height='auto', width='100%'), width=2000)"
      ]
     },
     "metadata": {},
     "output_type": "display_data"
    }
   ],
   "source": [
    "#####    these are the prime powers q to be run         ##### \n",
    "#####    this algorithm is for ODD PRIME POWERS only    ##### \n",
    "\n",
    "# Here are some smaller primes\n",
    "#prime_power_list = [3,5,7,9,11,13,17,19,23,25,27,29,31,37,41,43,47,49,53,59,61]\n",
    "\n",
    "# These primes are of interest.\n",
    "# Graphs for these primes support [556,993,2257,3783,16257] routers that have radixes [24,32,48,62,128]. \n",
    "# May want to change the opacity on edges and maybe the line width in the viz.\n",
    "#prime_power_list = [23,31,47,61,127]  \n",
    "\n",
    "#prime_power_list = [3,7]  # used for the paper viz\n",
    "\n",
    "prime_power_list = [7,9]\n",
    "\n",
    "for q in prime_power_list:\n",
    "    ER_Graph = ER(q)\n",
    "    layout_list, layout_names = ER_Graph.layouts.set_layouts_ER()\n",
    "    edgelists,edgelist_names = ER_Graph.set_interesting_edgelists_ER()\n",
    "    GF = galois.GF(q)\n",
    "\n",
    "    ER_Subgraph = ER_Graph.induced_subgraph(ER_Graph.V1)\n",
    "    \n",
    "    visualize_graph(ER_Subgraph, 'good', \n",
    "                    ['all_edges'], \n",
    "                     'xy', [0,0,0], False,\n",
    "                     \"./ER_graphs/ER\" + str(q) + \"_V1_subgraph\", \n",
    "                    'GF('+str(q)+'): a subgraph, good layout')\n",
    "           \n",
    "# have a look at the basic layouts\n",
    "\n",
    "# visualize_graph(graph, layout, edge_displaylist, camera_pos, camera_rot, show_labels, fname, caption)\n",
    "# layouts: ['default', 'good', 'cake']\n",
    "# edgelists: ['all_edges', 'cluster', 'cluster_to_quadrics', 'cluster_nbr', 'cluster_to_nbrV1', 'cluster_to_nbrV2', 'all_clusters']\n",
    "\n",
    "    visualize_graph(ER_Graph, 'default', \n",
    "                    ['all_edges'], \n",
    "                    'xy', [0,0,0], False,\n",
    "                     \"./ER_graphs/ER\" + str(q) + \"_lex\", \n",
    "                    'GF('+str(q)+'): Lexicographic layout')\n",
    "    visualize_graph(ER_Graph, 'good', \n",
    "                    ['all_edges'], \n",
    "                    'xy', [0,0,0], False,\n",
    "                     \"./ER_graphs/ER\" + str(q) + \"_good\", \n",
    "                    'GF('+str(q)+'): Good layout')\n",
    "#     visualize_graph(ER_Graph, 'cake', \n",
    "#                     ['all_edges'], \n",
    "#                     'zx', [0,0,20], False,\n",
    "#                      \"./ER_graphs/ER\" + str(q) + \"_cake_all\", \n",
    "#                     'GF('+str(q)+'): Layer cake, all edges')    \n",
    "# #   look at one cluster, cake layout\n",
    "#     visualize_graph(ER_Graph, 'cake', \n",
    "#                     ['all_edges', 'cluster'],\n",
    "#                     'zx', [0,0,20], False,\n",
    "#                      \"./ER_graphs/ER\" + str(q) + \"_cake_1cluster\", \n",
    "#                     'GF('+str(q)+'): Layer cake, one cluster')    \n",
    "# #   look at the same cluster, plus its connections to the quadrics, cake layout\n",
    "#     visualize_graph(ER_Graph, 'cake', \n",
    "#                     ['all_edges', 'cluster', 'cluster_to_quadrics'],\n",
    "#                     'zx', [0,0,20], False,\n",
    "#                      \"./ER_graphs/ER\" + str(q) + \"_cake_1cluster_quads\", \n",
    "#                     'GF('+str(q)+'): Layer cake, one cluster plus quadrics')    \n",
    "#   look at the same cluster, plus its connections to the quadrics and to a neighbor cluster, cake layout\n",
    "    visualize_graph(ER_Graph, 'cake', \n",
    "                    ['all_edges', 'cluster', 'cluster_to_quadrics', 'cluster_nbr', 'cluster_to_nbrV1', 'cluster_to_nbrV2'],\n",
    "                    'zx', [0,0,20], False,\n",
    "                     \"./ER_graphs/ER\" + str(q) + \"_cake_2clusters_edges\", \n",
    "                    'GF('+str(q)+'): Layer cake, two clusters plus external edges')   \n",
    "#   look at all clusters from overhead, cake layout\n",
    "    visualize_graph(ER_Graph, 'cake', \n",
    "                    ['all_edges', 'all_clusters'], \n",
    "                    'xy', [0,0,0], False,\n",
    "                     \"./ER_graphs/ER\" + str(q) + \"_cake_allclusters_overhead\", \n",
    "                    'GF('+str(q)+'): Layer cake, all clusters, overhead')\n",
    "    \n"
   ]
  },
  {
   "cell_type": "code",
   "execution_count": null,
   "id": "84cf92f6",
   "metadata": {},
   "outputs": [],
   "source": []
  },
  {
   "cell_type": "code",
   "execution_count": null,
   "id": "62bb8858",
   "metadata": {},
   "outputs": [],
   "source": []
  },
  {
   "cell_type": "code",
   "execution_count": null,
   "id": "1364761d",
   "metadata": {},
   "outputs": [],
   "source": []
  },
  {
   "cell_type": "code",
   "execution_count": null,
   "id": "fb206686",
   "metadata": {},
   "outputs": [],
   "source": []
  },
  {
   "cell_type": "code",
   "execution_count": null,
   "id": "2448a544",
   "metadata": {},
   "outputs": [],
   "source": []
  }
 ],
 "metadata": {
  "kernelspec": {
   "display_name": "Python 3 (ipykernel)",
   "language": "python",
   "name": "python3"
  },
  "language_info": {
   "codemirror_mode": {
    "name": "ipython",
    "version": 3
   },
   "file_extension": ".py",
   "mimetype": "text/x-python",
   "name": "python",
   "nbconvert_exporter": "python",
   "pygments_lexer": "ipython3",
   "version": "3.9.7"
  }
 },
 "nbformat": 4,
 "nbformat_minor": 5
}
