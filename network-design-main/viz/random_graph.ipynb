{
 "cells": [
  {
   "cell_type": "code",
   "execution_count": null,
   "id": "cd9dd1ab",
   "metadata": {
    "scrolled": false
   },
   "outputs": [],
   "source": [
    "# general imports, basic globals\n",
    "\n",
    "import io\n",
    "import sys\n",
    "import subprocess \n",
    "import copy\n",
    "import pandas as pd\n",
    "import numpy as np\n",
    "import pyvista as pv\n",
    "\n",
    "from gfq import *\n",
    "from graph_viz import *\n",
    "from graph_classes import *\n",
    "\n",
    "# Define some colors, for the vertices and edges\n",
    "RED = '#FF0000'\n",
    "DK_RED = '#990000'\n",
    "LT_GREEN = '#44FF44'\n",
    "DK_GREEN = '#009900'\n",
    "LT_BLUE = '#0088FF'\n"
   ]
  },
  {
   "cell_type": "code",
   "execution_count": null,
   "id": "b74da48d",
   "metadata": {
    "scrolled": false
   },
   "outputs": [],
   "source": [
    "class RandGraph(Graph):\n",
    "    \n",
    "    def set_vertex_list(self, num_vert):\n",
    "        # this sets vertices just to be the numbers in order\n",
    "        vertex_list = []\n",
    "        for i in range(0,num_vert):\n",
    "            vertex_list.append(Vertex(i))\n",
    "        return vertex_list, num_vert\n",
    "\n",
    "    def set_adjacency_matrix(self):\n",
    "        # sets a randomized adjacency matrix, according to random_val\n",
    "        adj_matrix = []\n",
    "        for i in range(self.num_vertices):\n",
    "            row = [0]*self.num_vertices\n",
    "            adj_matrix.append(row)\n",
    "            if np.random.rand() < random_val:\n",
    "                adj_matrix[i][i] = 1                \n",
    "        for i in range(self.num_vertices):\n",
    "            for j in range(i+1, self.num_vertices):\n",
    "                if np.random.rand() < random_val:\n",
    "                    adj_matrix[i][j] = 1                \n",
    "                    adj_matrix[j][i] = 1 \n",
    "        return adj_matrix\n",
    "    \n",
    "    def init_stuff(self):\n",
    "        # the next is specific to random graphs\n",
    "        self.SA = self.get_self_adj_vertices()        \n",
    "\n",
    "num_vertices = [10,13,25]\n",
    "\n"
   ]
  },
  {
   "cell_type": "code",
   "execution_count": null,
   "id": "72014305",
   "metadata": {},
   "outputs": [],
   "source": [
    "# here is a simple little sample graph\n",
    "\n",
    "# the method set_vertex_list() should be set (the default is just the integers from 0 to num_vert-1)\n",
    "# the method set_adjacency_matrix() MUST be set (the default is all 0s, so no edges)\n",
    "# basic layouts and other defaults are set in the Graph class from graph_viz.py\n",
    "\n",
    "# The basic layout is evenly spaced and clockwise around a circle in order.\n",
    "# If you want anything fancier than the basic layout, inherit from the layout class and do what you want. \n",
    "# See er_graph for an example. Same with colors, line opacity and the like.\n",
    "\n",
    "# visualize_graph() as below should \"just work\", and shows the basic layout with all graph edges.\n",
    "# See er_graph for more parameters for visualize_graph()\n",
    "\n",
    "random_val = .2\n",
    "\n",
    "for num_vert in num_vertices:\n",
    "    rand_graph = RandGraph(num_vert)\n",
    "    visualize_graph(rand_graph, 'default', \n",
    "                    ['all_edges'], \n",
    "                     'xy', [0,0,0], False,\n",
    "                     \"./images/rand_test\", \n",
    "                    'rand('+str(num_vert)+'): random graph, default layout')\n",
    "    \n",
    "    "
   ]
  },
  {
   "cell_type": "code",
   "execution_count": null,
   "id": "9f6685d0",
   "metadata": {},
   "outputs": [],
   "source": []
  },
  {
   "cell_type": "code",
   "execution_count": null,
   "id": "a590d660",
   "metadata": {},
   "outputs": [],
   "source": []
  },
  {
   "cell_type": "code",
   "execution_count": null,
   "id": "0e2975a0",
   "metadata": {},
   "outputs": [],
   "source": []
  }
 ],
 "metadata": {
  "kernelspec": {
   "display_name": "Python 3 (ipykernel)",
   "language": "python",
   "name": "python3"
  },
  "language_info": {
   "codemirror_mode": {
    "name": "ipython",
    "version": 3
   },
   "file_extension": ".py",
   "mimetype": "text/x-python",
   "name": "python",
   "nbconvert_exporter": "python",
   "pygments_lexer": "ipython3",
   "version": "3.9.7"
  }
 },
 "nbformat": 4,
 "nbformat_minor": 5
}
