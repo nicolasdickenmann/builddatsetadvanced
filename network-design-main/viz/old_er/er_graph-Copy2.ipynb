{
 "cells": [
  {
   "cell_type": "code",
   "execution_count": 1,
   "id": "cd9dd1ab",
   "metadata": {},
   "outputs": [],
   "source": [
    "# general imports\n",
    "\n",
    "import io\n",
    "import sys\n",
    "import subprocess \n",
    "\n",
    "import numpy as np\n",
    "import pyvista as pv\n",
    "\n",
    "import galois\n",
    "import json\n",
    "\n",
    "# make sure the user has at least Python 3.7, which we need for some capture_output below\n",
    "assert sys.version_info.major == 3, \"This requires at least Python 3.7\"\n",
    "assert sys.version_info.minor >= 7, \"This requires at least Python 3.7\""
   ]
  },
  {
   "cell_type": "code",
   "execution_count": 2,
   "id": "c84a80ff",
   "metadata": {},
   "outputs": [],
   "source": [
    "# finite field arithmetic tables and 3-D dot product calculation\n",
    "\n",
    "\n",
    "# addition and multiplication tables for F_q\n",
    "\n",
    "def make_GFq_arith_table(q):\n",
    "    GFq_add = []\n",
    "    GFq_mul = []\n",
    "    GF = galois.GF(q)\n",
    "    for i in range(q):\n",
    "        x_vec = []\n",
    "        y_vec = []\n",
    "        for j in range(q):\n",
    "            x_vec.append(i)\n",
    "            y_vec.append(j)\n",
    "        x = GF(x_vec)\n",
    "        y = GF(y_vec)\n",
    "        GFq_add.append(json.loads(str(x+y)))\n",
    "        GFq_mul.append(json.loads(str(x*y)))\n",
    "    return GFq_add, GFq_mul\n",
    "    \n",
    "def dot_product_3d(v,w,q):\n",
    "    s=[]\n",
    "    for i in range(3):\n",
    "        s.append(GFq_mul[v[i]][w[i]])\n",
    "    d = GFq_add[GFq_add[s[0]][s[1]]][s[2]]\n",
    "    return d\n"
   ]
  },
  {
   "cell_type": "code",
   "execution_count": 3,
   "id": "7121b8f2",
   "metadata": {},
   "outputs": [],
   "source": [
    "# graph: generate vertices and incidence matrix\n",
    "# also important vertex subsets L (the initial quadric), W (all quadrics except the initial one), C, V1 and V2\n",
    "# also the center elements, given L\n",
    "\n",
    "def generate_vertices(q):\n",
    "# this generates the q^2+q+1 vertices of ER_q\n",
    "# vertex_value gives the left-normalized vectors of ER_q, in lexicographic order\n",
    "# you can permute vertex_value to give another ordering of the left-normalized vectors of ER_q\n",
    "# vertices values as vectors in {F_q}^3, in lexicographic order\n",
    "\n",
    "    vertex_value = []\n",
    "    for i in range(int(q**3)):\n",
    "        new_point = []\n",
    "        new_point.insert(0, int(i%q))\n",
    "        new_point.insert(0, int(((i-new_point[0])/q)%q))\n",
    "        new_point.insert(0, int(((i-new_point[0]*q-new_point[1])/q**2)%q))\n",
    "        if (new_point[0]==1):\n",
    "            vertex_value.append(new_point)\n",
    "        elif (new_point[0]==0 and new_point[1]==1):\n",
    "            vertex_value.append(new_point)\n",
    "        elif (new_point[0]==0 and new_point[1]==0 and new_point[2]==1):\n",
    "            vertex_value.append(new_point)            \n",
    "    return vertex_value\n",
    "\n",
    "def incidence_matrix(vertices_values):\n",
    "    inc_matrix = []\n",
    "    num_vertices = len(vertices_values)\n",
    "    for i in range(num_vertices):\n",
    "        row=[]\n",
    "        for j in range(num_vertices):\n",
    "            row.append(0)\n",
    "        inc_matrix.append(row)\n",
    "    for i in range(num_vertices):\n",
    "        for j in range(i,num_vertices):\n",
    "            d = dot_product_3d(vertices_values[i], vertices_values[j],q)\n",
    "            if d==0:\n",
    "                inc_matrix[i][j]=1\n",
    "                inc_matrix[j][i]=1\n",
    "    return inc_matrix\n",
    "\n",
    "def generate_W(inc_matrix):\n",
    "    W=[]\n",
    "    num_vertices = len(inc_matrix[0])\n",
    "    for i in range(num_vertices):\n",
    "        if inc_matrix[i][i]==1:\n",
    "            W.append(i)\n",
    "    return W\n",
    "\n",
    "def generate_V1(L, W, inc_matrix):\n",
    "    C=[]\n",
    "    V1=[]\n",
    "    num_vertices = len(inc_matrix[0])\n",
    "    for i in range(num_vertices):\n",
    "        if (i not in L) and (i not in W) and inc_matrix[i][L[0]]==1:\n",
    "            C.append(i)     \n",
    "    for i in range(num_vertices):\n",
    "        if (i not in L) and (i not in W) and (i not in C):\n",
    "            for j in W:\n",
    "                if inc_matrix[i][j]==1:\n",
    "                    V1.append(i)\n",
    "                    break\n",
    "    return (C,V1)\n",
    "\n",
    "def generate_V2(L, W, C, V1, num_vertices):\n",
    "    V2=[]\n",
    "    for i in range(num_vertices):\n",
    "        if (i not in L) and (i not in W) and (i not in C) and (i not in V1):\n",
    "            V2.append(i)\n",
    "    return V2\n",
    "\n",
    "def generate_quad_0(W):\n",
    "    # grab the last element of W to be the chosen quadric\n",
    "    L=[]\n",
    "    L.append(W[0])\n",
    "    W.pop(0)\n",
    "#     L.append(W[len(W)-1])\n",
    "#     W.pop(len(W)-1)\n",
    "    return (L,W)\n",
    "\n",
    "def center_pointers(inc_matrix, l):\n",
    "# gives the cluster vertices defined by a quadric\n",
    "    # choose a center element, must be perp to l but not self-perp, i.e., not in W\n",
    "    centerpointers = []\n",
    "    for i in range(len(inc_matrix[0])):\n",
    "        if inc_matrix[l][i]==1 and inc_matrix[i][i]==0:\n",
    "            centerpointers.append(i)\n",
    "    return centerpointers\n",
    "\n",
    "def pos_from_pointers(positions, pointers):\n",
    "    out_positions = []\n",
    "    for i in range(len(pointers)):\n",
    "        out_positions.append(positions[pointers[i]])\n",
    "    return out_positions\n",
    "\n",
    "def get_edges(inc_matrix, pointer_set):\n",
    "# get all of the edges from a given pointer_set\n",
    "    clusteredges = []\n",
    "    for i in range(len(pointer_set)):\n",
    "        for j in range(i+1,len(pointer_set)):\n",
    "            if inc_matrix[pointer_set[i]][pointer_set[j]]==1:\n",
    "                clusteredges.append([2,pointer_set[i],pointer_set[j]])\n",
    "    return clusteredges\n",
    "\n",
    "def between_ptrsets_edges(inc_matrix, pointer_set_0, pointer_set_1):\n",
    "# get all of the edges between two pointer_sets\n",
    "    clusteredges = []\n",
    "    for i in range(len(pointer_set_0)):\n",
    "        for j in range(len(pointer_set_1)):\n",
    "            if inc_matrix[pointer_set_0[i]][pointer_set_1[j]]==1:\n",
    "                clusteredges.append([2,pointer_set_0[i],pointer_set_1[j]])\n",
    "    return clusteredges\n",
    "\n",
    "def get_cluster(inc_matrix, vpos, l, c):\n",
    "    clusterpointers = cluster_pointers(inc_matrix, l, c)\n",
    "    clustervpos = pos_from_pointers(vpos, clusterpointers)\n",
    "    clusteredges = get_edges(inc_matrix, clusterpointers) \n",
    "    return (clusterpointers, clustervpos, clusteredges)\n",
    "\n",
    "def cluster_pointers(inc_matrix, l, c):\n",
    "# gives pointers to the cluster vertices defined by a quadric and a center elt\n",
    "    clusterpointers=[c]\n",
    "    for i in range(len(inc_matrix[0])):\n",
    "        if inc_matrix[c][i]==1 and inc_matrix[i][i]==0:\n",
    "            clusterpointers.append(i)\n",
    "    return clusterpointers\n",
    "\n",
    "def append_edges(edges, pos, opacity, color, line_width):\n",
    "    edge_sets.append(edges)    \n",
    "    vpos_sets.append(pos)\n",
    "    edge_opacities.append(opacity)\n",
    "    edge_colors.append(color)\n",
    "    line_widths.append(line_width)\n",
    "\n"
   ]
  },
  {
   "cell_type": "code",
   "execution_count": 4,
   "id": "e185115f",
   "metadata": {},
   "outputs": [],
   "source": [
    "# viz stuff\n",
    "\n",
    "# Let's define some colors\n",
    "RED = '#FF0000'\n",
    "YELLOW = '#CCCC00'\n",
    "GREEN = '#00DD00'\n",
    "CYAN = '#00FFFF'\n",
    "BLUE = '#0000FF'\n",
    "MAGENTA = '#CC00CC'\n",
    "\n",
    "LT_RED = '#FF3333'\n",
    "DK_RED = '#770000'\n",
    "ORANGE = '#FF8400'\n",
    "LT_GREEN = '#44FF44'\n",
    "DK_GREEN = '#009900'\n",
    "NEON_GREEN = '#00FE94'\n",
    "LT_BLUE = '#0088FF'\n",
    "NEON_BLUE = '#7DF9FF'\n",
    "LIGHT_COLOR = 'white'\n",
    "BACKGROUND_COLOR = 'white'\n",
    "GREY = '#AAAAAA'\n",
    "LT_GREY = '#CCCCCC'\n",
    "\n",
    "L_color = RED\n",
    "W_color = DK_RED\n",
    "C_color = LT_GREEN\n",
    "V1_color = DK_GREEN\n",
    "V2_color = LT_BLUE\n",
    "\n",
    "\n",
    "\n",
    "vertex_size = 25\n",
    "vertex_size_smaller = vertex_size\n",
    "\n",
    "# these next are for the lex display if desired\n",
    "# vertex_size = 70\n",
    "# W_color = RED\n",
    "# C_color = GREEN\n",
    "# V1_color = GREEN\n",
    "\n",
    "\n",
    "def visualize_graph(vertex_value, L, W, C, V1, V2, edge_sets, vpos_sets, edge_opacities, edge_colors, line_widths, fname, camera_pos, camera_rot , show_labels):\n",
    "    # camera_pos views: xy, xz, yz, yx, zx, zy, iso, can also define a camera_pos = (x,y,z) tuple\n",
    "#     camera_pos = 'zx'\n",
    "#     camera_rot = [0,5,15]\n",
    "#     # overhead view\n",
    "#     camera_pos = 'xy'\n",
    "#     camera_rot = [0,0,180]\n",
    "    pl = pv.Plotter(lighting=None, window_size=(2000, 2000))\n",
    "    light1 = pv.Light(position=(10, 10., -5.0),\n",
    "                       focal_point=(0, 0, 0),\n",
    "                       color=LIGHT_COLOR,  # Color temp. 5400 K\n",
    "                       intensity=1.5)\n",
    "    light2 = pv.Light(position=(-10, 10.0, -5.0),\n",
    "                       focal_point=(0, 0, 0),\n",
    "                       color=LIGHT_COLOR,  # Color temp. 2850 K\n",
    "                       intensity=0.75)\n",
    "#     pl.add_light(light1)  # Lighting effect to be cast onto the object\n",
    "#     pl.add_light(light2)  # Second Lighting effect to be cast onto the object\n",
    "    hlight = pv.Light(light_type='headlight')\n",
    "    pl.add_light(hlight)  # Second Lighting effect to be cast onto the object\n",
    "    pl.set_background(BACKGROUND_COLOR)  # Set the background \n",
    "            \n",
    "    # pdata is the basic vertex data positions\n",
    "    pdata = pv.PolyData(vpos_sets[0]) \n",
    "    \n",
    "# this adds point labels of vector values -- but placed on top of the points\n",
    "    if (show_labels):\n",
    "        point_labels = []\n",
    "        for i in range(len(vertex_value)):\n",
    "            point_labels.append(vertex_value[i])        \n",
    "        pl.add_point_labels(pdata, point_labels, italic=False, bold=True, font_size=30,\n",
    "                            point_color='black', point_size=0, text_color='black', \n",
    "                            shape=None, \n",
    "                            render_points_as_spheres=True,\n",
    "                            always_visible=True, shadow=False)  \n",
    "\n",
    "# this adds the other edge sets    \n",
    "    other_pdata = []\n",
    "    for i in range(len(edge_sets)):\n",
    "        other_pdata.append(pv.PolyData(vpos_sets[0]))\n",
    "        other_pdata[i].lines = edge_sets[i]\n",
    "        pl.add_mesh(other_pdata[i],\n",
    "                    color = edge_colors[i],\n",
    "                    opacity = edge_opacities[i],\n",
    "                    point_size=0,\n",
    "                    line_width = line_widths[i],\n",
    "                    render_points_as_spheres=True\n",
    "        )\n",
    "        \n",
    "    L_vertex_position=[]\n",
    "    for i in L:\n",
    "        L_vertex_position.append(vpos_sets[0][L[0]])\n",
    "    L_cloud = pv.PolyData(L_vertex_position)\n",
    "    pl.add_mesh(L_cloud, \n",
    "                color=L_color, \n",
    "                point_size=vertex_size,\n",
    "                render_points_as_spheres=True\n",
    "               )\n",
    "    W_vertex_position=[]\n",
    "    for i in W:\n",
    "        W_vertex_position.append(vpos_sets[0][i])\n",
    "    W_cloud = pv.PolyData(W_vertex_position)\n",
    "    pl.add_mesh(W_cloud, \n",
    "                color=W_color, \n",
    "                point_size=vertex_size,\n",
    "                render_points_as_spheres=True\n",
    "               )\n",
    "    C_vertex_position=[]\n",
    "    for i in C:\n",
    "        C_vertex_position.append(vpos_sets[0][i])\n",
    "    C_cloud = pv.PolyData(C_vertex_position)\n",
    "    pl.add_mesh(C_cloud, \n",
    "                color=C_color, \n",
    "                point_size=vertex_size,\n",
    "                render_points_as_spheres=True\n",
    "               )\n",
    "    V1_vertex_position=[]\n",
    "    for i in V1:\n",
    "        V1_vertex_position.append(vpos_sets[0][i])\n",
    "    V1_cloud = pv.PolyData(V1_vertex_position)\n",
    "    pl.add_mesh(V1_cloud, \n",
    "                color=V1_color, \n",
    "                point_size=vertex_size_smaller,\n",
    "                render_points_as_spheres=True\n",
    "               )\n",
    "    V2_vertex_position=[]\n",
    "    for i in V2:\n",
    "        V2_vertex_position.append(vpos_sets[0][i])\n",
    "    V2_cloud = pv.PolyData(V2_vertex_position)\n",
    "    pl.add_mesh(V2_cloud, \n",
    "                color=V2_color, \n",
    "                point_size=vertex_size_smaller,\n",
    "                render_points_as_spheres=True\n",
    "               )\n",
    "    \n",
    "    # Views: xy, xz, yz, yx, zx, zy, iso \n",
    "    pl.camera_position = camera_pos\n",
    "    pl.camera.roll = camera_rot[0]\n",
    "    pl.camera.azimuth = camera_rot[1]\n",
    "    pl.camera.elevation = camera_rot[2]\n",
    "    pl.camera.zoom(1)\n",
    "   \n",
    "    # Save the plot as a screenshot.  We can change the output resolution if desired\n",
    "    pl.screenshot(fname, window_size=[2000,2000])\n",
    "    #pl.add_point_labels(vpos_sets[0], range(len(vpos_sets[0])), font_size=100)\n",
    "    #pl.show_axes()\n",
    "    pl.show()\n",
    "    \n",
    "\n"
   ]
  },
  {
   "cell_type": "code",
   "execution_count": 5,
   "id": "c3ace006",
   "metadata": {},
   "outputs": [],
   "source": [
    "# graph layout: positioning vertices\n",
    "# edges automatically follow\n",
    "\n",
    "def init_pos(num_vertices):\n",
    "# vertex_position gives the initial positions of q^2+q+1 points equidistant on the unit circle\n",
    "# you can permute vertex_value to give another ordering of the left-normalized vectors of ER_q\n",
    "# you can change vertex_position to place these elsewhere in the space, for example into 3-space\n",
    "    vpos = []\n",
    "    # vertices locations\n",
    "    for i in range(num_vertices):\n",
    "        angle_increment = 2*np.pi/num_vertices    \n",
    "        vpos.append([np.sin(i*angle_increment), np.cos(i*angle_increment), 0])\n",
    "    return vpos\n",
    "\n",
    "def reset_pos(vertex_position):\n",
    "    vpos = []\n",
    "    for i in range(len(vertex_position)):\n",
    "        vpos.append(vertex_position[i])\n",
    "    return vpos\n",
    "\n",
    "def graph_to_clusters_start(q, vertex_position, inc_matrix, L, W, C, V1, V2):\n",
    "# this permutes the positions of the vertices in a way that helps to show how clusters are made\n",
    "    num_vertices = len(vertex_position)\n",
    "    vpos = []\n",
    "    for i in range(len(vertex_position)):\n",
    "        vpos.append(vertex_position[i])\n",
    "    # place the element of L\n",
    "    vpos[L[0]] = vertex_position[num_vertices-1-int((q-1)/2)]\n",
    "    # place the elements of C to range over the top of the circle\n",
    "    end_C = int((q-1)/2)\n",
    "    for i in range(len(C)):\n",
    "        vpos[C[i]] = vertex_position[(i-end_C)%num_vertices]\n",
    "    current_pos = end_C+1\n",
    "    # move the cluster elements of V1 to points corresponding to their cluster centers from C\n",
    "    # want them to be more or less directly below their center\n",
    "    # this loop looks at the ith element of C defining cluster C_i\n",
    "    for i in range(len(C)): \n",
    "        current_pos+=1\n",
    "        V1_Ci=[]\n",
    "        V2_Ci=[]\n",
    "        # collect the elements of V1 and V2 that are in C_i\n",
    "        for j in range(len(V1)):\n",
    "            if inc_matrix[V1[j]][C[len(C)-1-i]]==1:\n",
    "                V1_Ci.append(V1[j])\n",
    "            if inc_matrix[V2[j]][C[len(C)-1-i]]==1:\n",
    "                V2_Ci.append(V2[j])\n",
    "        # make triangles\n",
    "        #current_pos = end_C+1 \n",
    "        if (q%4 != 1):\n",
    "            for j in range(int((q-1)/2)):\n",
    "                # take the jth V1_temp and match it up with the V2 that is orthogonal\n",
    "                # here's the jth V1\n",
    "                vpos[V1_Ci[j]] = vertex_position[current_pos]\n",
    "                current_pos += 1\n",
    "                # take the orthogonal V2\n",
    "                for k in range(len(V2_Ci)):\n",
    "                    if inc_matrix[V1_Ci[j]][V2_Ci[k]]==1:\n",
    "                        vpos[V2_Ci[k]] = vertex_position[current_pos]\n",
    "                        current_pos += 1\n",
    "                        break\n",
    "        else: # q%4 == 1\n",
    "            # will have (q-1)/4 pairs of V1 only tris, and (q-1)/4 pairs of V2 only tris\n",
    "            for j in range(int((q-1)/4)):\n",
    "                # all the tris are within V1 or within V2\n",
    "                # pick the first V1 and V2 (any one not picked will do)\n",
    "                vpos[V1_Ci[0]] = vertex_position[current_pos]\n",
    "                current_pos += 1\n",
    "                vpos[V2_Ci[0]] = vertex_position[current_pos]\n",
    "                current_pos += 1\n",
    "                #pick twins of V1_temp[0]\n",
    "                for k in range(1,len(V1_Ci)):\n",
    "                    if inc_matrix[V1_Ci[0]][V1_Ci[k]]==1:\n",
    "                        vpos[V1_Ci[k]] = vertex_position[current_pos]\n",
    "                        current_pos += 1\n",
    "                        V1_Ci.pop(k)\n",
    "                        V1_Ci.pop(0)\n",
    "                        break\n",
    "                #pick twins of V2_temp[0]\n",
    "                for k in range(1,len(V2_Ci)):\n",
    "                    if inc_matrix[V2_Ci[0]][V2_Ci[k]]==1:\n",
    "                        vpos[V2_Ci[k]] = vertex_position[current_pos]\n",
    "                        current_pos += 1\n",
    "                        V2_Ci.pop(k)\n",
    "                        V2_Ci.pop(0)\n",
    "                        break                \n",
    "    \n",
    "    # these will be interspersed between each \"rack\" C_i of V1 and V2 points\n",
    "    C_temp=[]\n",
    "    for i in range(len(C)):\n",
    "        C_temp.append(C[i])\n",
    "    mid_C = int((len(C)-1)/2)\n",
    "    C_temp.pop(mid_C)\n",
    "    for i in range(len(W)):\n",
    "        if inc_matrix[W[i]][C[mid_C]]==1:\n",
    "            vpos[W[i]] = vertex_position[(end_C+1)%num_vertices]\n",
    "    for j in range(len(C_temp)):\n",
    "        W_temp=[]\n",
    "        for i in range(len(W)):\n",
    "            if inc_matrix[W[i]][C_temp[len(C_temp)-1-j]]==1:\n",
    "                W_temp.append(W[i])                                \n",
    "        for i in range(len(W_temp)):\n",
    "            vpos[W_temp[i]] = vertex_position[(end_C+1+(j+1)*q)%num_vertices]\n",
    "            \n",
    "    return vpos\n",
    "\n",
    "def graph_to_clusters_pos_2(vertex_position, L):\n",
    "    # move the arbitrary quadric element in L outside and above the circle\n",
    "    vpos = []\n",
    "    for i in range(len(vertex_position)):\n",
    "        vpos.append(vertex_position[i])\n",
    "    height_L = 1.25\n",
    "    vpos[L[0]] = [0.0,height_L,0.0]  \n",
    "    return vpos\n",
    "\n",
    "def graph_to_clusters_pos_3(vertex_position, W):\n",
    "    # move the arbitrary quadric element in L outside and above the circle\n",
    "    vpos = []\n",
    "    for i in range(len(vertex_position)):\n",
    "        vpos.append(vertex_position[i])\n",
    "    vpos[W[1]][0] = 0\n",
    "    height_W = 1.25\n",
    "    dist_W = 0.5\n",
    "    for i in range(len(W)):\n",
    "        vpos[W[i]][0] = dist_W - i*dist_W/q\n",
    "        vpos[W[i]][1] = height_W\n",
    "    return vpos\n",
    "\n",
    "def graph_layercake_pos(vertex_position, L, W, C, V1, V2):\n",
    "    vpos = []\n",
    "    for i in range(len(vertex_position)):\n",
    "        vpos.append(vertex_position[i]) \n",
    "\n",
    "    num_vertices = len(vertex_position)\n",
    "    vertices_angle = 2*np.pi/num_vertices\n",
    "    if (q == 3%4): # if (q == 3%4), have an odd number of pairs, line the center up with the middle\n",
    "        starting_angle = vertices_angle*((num_vertices-q+1)/num_vertices)\n",
    "    else: # if (q == 1%4), have an even number of pairs, line the center between the two middle\n",
    "        starting_angle = vertices_angle*(num_vertices-q+0.5)\n",
    "    # Move the W away from the viewer and into the center\n",
    "    # The W are still ordered lexicographically\n",
    "    radius_W= .25\n",
    "    num_W = len(W)\n",
    "    angle_W = 2*np.pi/(num_W+1) \n",
    "    W_dist_up = -1.0\n",
    "    starting_angle_W = 0\n",
    "    vpos[L[0]][0]= radius_W*np.sin(starting_angle_W)\n",
    "    vpos[L[0]][1]= radius_W*np.cos(starting_angle_W)\n",
    "    vpos[L[0]][2]= W_dist_up\n",
    "    \n",
    "    for i in range(num_W):\n",
    "        vpos[W[i]][0]= radius_W*np.sin((i+1)*angle_W+starting_angle_W)\n",
    "        vpos[W[i]][1]= radius_W*np.cos((i+1)*angle_W+starting_angle_W)\n",
    "        vpos[W[i]][2]= W_dist_up\n",
    "\n",
    "#     # Permuation: this one is a nice one that works to show nice quadrics edges but only for q=7\n",
    "#     # This is used in the paper\n",
    "\n",
    "#     #save original positions out\n",
    "#     pos_temp_list = []\n",
    "#     for i in range(num_W):\n",
    "#         pos_temp = []    \n",
    "#         for j in range(3):\n",
    "#             pos_temp.append(vpos[W[i]][j])\n",
    "#         pos_temp_list.append(pos_temp)\n",
    "#     pos_temp_list.append(vpos[L[0]])\n",
    "#     # permute vertices as desired. They will drag their edges with them.\n",
    "#     # this one is a nice one that works to show nice quadrics edges for q=7\n",
    "#     for j in range(3):\n",
    "#         vpos[W[0]][j] = pos_temp_list[7][j]\n",
    "#         vpos[W[1]][j] = pos_temp_list[6][j]\n",
    "#         vpos[W[2]][j] = pos_temp_list[5][j]\n",
    "#         vpos[W[3]][j] = pos_temp_list[4][j]\n",
    "#         vpos[W[4]][j] = pos_temp_list[2][j]\n",
    "#         vpos[W[5]][j] = pos_temp_list[3][j]\n",
    "#         vpos[W[6]][j] = pos_temp_list[0][j]\n",
    "#         vpos[L[0]][j] = pos_temp_list[1][j]\n",
    "\n",
    "# Move the C elements into the center\n",
    "    radius_C= 1.5*radius_W\n",
    "    num_C = len(C)\n",
    "    angle_C = 2*np.pi/(num_C)\n",
    "    #cp as in main function\n",
    "    #cp = (q-1)/2\n",
    "    cp = 0\n",
    "    starting_angle_C = starting_angle_W+(cp+1)*angle_C/2\n",
    "    starting_angle_C = starting_angle_W+(cp+0.5)*angle_C\n",
    "    C_dist_up = 0\n",
    "    for i in range(num_C):\n",
    "        vpos[C[i]][0]= radius_C*np.sin(-(i+1)*angle_C+starting_angle_C)\n",
    "        vpos[C[i]][1]= radius_C*np.cos(-(i+1)*angle_C+starting_angle_C)\n",
    "        vpos[C[i]][2]= C_dist_up\n",
    "\n",
    "# Move the V2 elements in z toward the viewer at positive z\n",
    "    for i in range(len(V2)):\n",
    "        vpos[V2[i]][2] += 1.0  \n",
    "    return vpos\n",
    "\n"
   ]
  },
  {
   "cell_type": "code",
   "execution_count": 6,
   "id": "5c59a2b6",
   "metadata": {
    "scrolled": false
   },
   "outputs": [
    {
     "name": "stdout",
     "output_type": "stream",
     "text": [
      "GF( 3 )\n",
      "GF( 3 ): Lexicographic layout\n"
     ]
    },
    {
     "data": {
      "application/vnd.jupyter.widget-view+json": {
       "model_id": "441d3841842c423bacd9d27120ef90b4",
       "version_major": 2,
       "version_minor": 0
      },
      "text/plain": [
       "ViewInteractiveWidget(height=2000, layout=Layout(height='auto', width='100%'), width=2000)"
      ]
     },
     "metadata": {},
     "output_type": "display_data"
    },
    {
     "name": "stdout",
     "output_type": "stream",
     "text": [
      "GF( 3 ): More structured layout, transparent edges plus dark cluster edges\n"
     ]
    },
    {
     "data": {
      "application/vnd.jupyter.widget-view+json": {
       "model_id": "54dd83b8b311459a9811f78e8d678c00",
       "version_major": 2,
       "version_minor": 0
      },
      "text/plain": [
       "ViewInteractiveWidget(height=2000, layout=Layout(height='auto', width='100%'), width=2000)"
      ]
     },
     "metadata": {},
     "output_type": "display_data"
    },
    {
     "name": "stdout",
     "output_type": "stream",
     "text": [
      "GF( 3 ): Layer cake, overhead view, transparent edges plus some number of clusters with dark cluster edges\n"
     ]
    },
    {
     "data": {
      "application/vnd.jupyter.widget-view+json": {
       "model_id": "c1874a6a482f4cc8932f42174636d08a",
       "version_major": 2,
       "version_minor": 0
      },
      "text/plain": [
       "ViewInteractiveWidget(height=2000, layout=Layout(height='auto', width='100%'), width=2000)"
      ]
     },
     "metadata": {},
     "output_type": "display_data"
    },
    {
     "name": "stdout",
     "output_type": "stream",
     "text": [
      "GF( 3 ): Layer cake, no main edges, two clusters with dark cluster edges and grey edges joining\n"
     ]
    },
    {
     "data": {
      "application/vnd.jupyter.widget-view+json": {
       "model_id": "60028fe7baa2485ca7631387733aab34",
       "version_major": 2,
       "version_minor": 0
      },
      "text/plain": [
       "ViewInteractiveWidget(height=2000, layout=Layout(height='auto', width='100%'), width=2000)"
      ]
     },
     "metadata": {},
     "output_type": "display_data"
    },
    {
     "name": "stdout",
     "output_type": "stream",
     "text": [
      "GF( 5 )\n",
      "GF( 5 ): Lexicographic layout\n"
     ]
    },
    {
     "data": {
      "application/vnd.jupyter.widget-view+json": {
       "model_id": "18fcffcb11cc4563b96a2ffa4b594187",
       "version_major": 2,
       "version_minor": 0
      },
      "text/plain": [
       "ViewInteractiveWidget(height=2000, layout=Layout(height='auto', width='100%'), width=2000)"
      ]
     },
     "metadata": {},
     "output_type": "display_data"
    },
    {
     "name": "stdout",
     "output_type": "stream",
     "text": [
      "GF( 5 ): More structured layout, transparent edges plus dark cluster edges\n"
     ]
    },
    {
     "data": {
      "application/vnd.jupyter.widget-view+json": {
       "model_id": "a1d119a163a14702aac6afb454af32b4",
       "version_major": 2,
       "version_minor": 0
      },
      "text/plain": [
       "ViewInteractiveWidget(height=2000, layout=Layout(height='auto', width='100%'), width=2000)"
      ]
     },
     "metadata": {},
     "output_type": "display_data"
    },
    {
     "name": "stdout",
     "output_type": "stream",
     "text": [
      "GF( 5 ): Layer cake, overhead view, transparent edges plus some number of clusters with dark cluster edges\n"
     ]
    },
    {
     "data": {
      "application/vnd.jupyter.widget-view+json": {
       "model_id": "a4fd453094b44f4ab5851ebeb750961a",
       "version_major": 2,
       "version_minor": 0
      },
      "text/plain": [
       "ViewInteractiveWidget(height=2000, layout=Layout(height='auto', width='100%'), width=2000)"
      ]
     },
     "metadata": {},
     "output_type": "display_data"
    },
    {
     "name": "stdout",
     "output_type": "stream",
     "text": [
      "GF( 5 ): Layer cake, no main edges, two clusters with dark cluster edges and grey edges joining\n"
     ]
    },
    {
     "data": {
      "application/vnd.jupyter.widget-view+json": {
       "model_id": "84304033540b49278694134e550706c9",
       "version_major": 2,
       "version_minor": 0
      },
      "text/plain": [
       "ViewInteractiveWidget(height=2000, layout=Layout(height='auto', width='100%'), width=2000)"
      ]
     },
     "metadata": {},
     "output_type": "display_data"
    },
    {
     "name": "stdout",
     "output_type": "stream",
     "text": [
      "GF( 7 )\n",
      "GF( 7 ): Lexicographic layout\n"
     ]
    },
    {
     "data": {
      "application/vnd.jupyter.widget-view+json": {
       "model_id": "d677650411a54620a135af1bbaf1c7cf",
       "version_major": 2,
       "version_minor": 0
      },
      "text/plain": [
       "ViewInteractiveWidget(height=2000, layout=Layout(height='auto', width='100%'), width=2000)"
      ]
     },
     "metadata": {},
     "output_type": "display_data"
    },
    {
     "name": "stdout",
     "output_type": "stream",
     "text": [
      "GF( 7 ): More structured layout, transparent edges plus dark cluster edges\n"
     ]
    },
    {
     "data": {
      "application/vnd.jupyter.widget-view+json": {
       "model_id": "a5bd6089a4914bfcb7bc87e138c3b236",
       "version_major": 2,
       "version_minor": 0
      },
      "text/plain": [
       "ViewInteractiveWidget(height=2000, layout=Layout(height='auto', width='100%'), width=2000)"
      ]
     },
     "metadata": {},
     "output_type": "display_data"
    },
    {
     "name": "stdout",
     "output_type": "stream",
     "text": [
      "GF( 7 ): Layer cake, overhead view, transparent edges plus some number of clusters with dark cluster edges\n"
     ]
    },
    {
     "data": {
      "application/vnd.jupyter.widget-view+json": {
       "model_id": "e27f4833536c4fb58cf356e43085717a",
       "version_major": 2,
       "version_minor": 0
      },
      "text/plain": [
       "ViewInteractiveWidget(height=2000, layout=Layout(height='auto', width='100%'), width=2000)"
      ]
     },
     "metadata": {},
     "output_type": "display_data"
    },
    {
     "name": "stdout",
     "output_type": "stream",
     "text": [
      "GF( 7 ): Layer cake, no main edges, two clusters with dark cluster edges and grey edges joining\n"
     ]
    },
    {
     "data": {
      "application/vnd.jupyter.widget-view+json": {
       "model_id": "20671eded6ec47e49afa1ebcac32f253",
       "version_major": 2,
       "version_minor": 0
      },
      "text/plain": [
       "ViewInteractiveWidget(height=2000, layout=Layout(height='auto', width='100%'), width=2000)"
      ]
     },
     "metadata": {},
     "output_type": "display_data"
    },
    {
     "name": "stdout",
     "output_type": "stream",
     "text": [
      "GF( 9 )\n",
      "GF( 9 ): Lexicographic layout\n"
     ]
    },
    {
     "data": {
      "application/vnd.jupyter.widget-view+json": {
       "model_id": "f3953edd59d64047a3412a3b2d111a82",
       "version_major": 2,
       "version_minor": 0
      },
      "text/plain": [
       "ViewInteractiveWidget(height=2000, layout=Layout(height='auto', width='100%'), width=2000)"
      ]
     },
     "metadata": {},
     "output_type": "display_data"
    },
    {
     "name": "stdout",
     "output_type": "stream",
     "text": [
      "GF( 9 ): More structured layout, transparent edges plus dark cluster edges\n"
     ]
    },
    {
     "data": {
      "application/vnd.jupyter.widget-view+json": {
       "model_id": "5dd9c925b51541b897ce86a85dd691aa",
       "version_major": 2,
       "version_minor": 0
      },
      "text/plain": [
       "ViewInteractiveWidget(height=2000, layout=Layout(height='auto', width='100%'), width=2000)"
      ]
     },
     "metadata": {},
     "output_type": "display_data"
    },
    {
     "name": "stdout",
     "output_type": "stream",
     "text": [
      "GF( 9 ): Layer cake, overhead view, transparent edges plus some number of clusters with dark cluster edges\n"
     ]
    },
    {
     "data": {
      "application/vnd.jupyter.widget-view+json": {
       "model_id": "4a943f02b5ff429588fa59204314b533",
       "version_major": 2,
       "version_minor": 0
      },
      "text/plain": [
       "ViewInteractiveWidget(height=2000, layout=Layout(height='auto', width='100%'), width=2000)"
      ]
     },
     "metadata": {},
     "output_type": "display_data"
    },
    {
     "name": "stdout",
     "output_type": "stream",
     "text": [
      "GF( 9 ): Layer cake, no main edges, two clusters with dark cluster edges and grey edges joining\n"
     ]
    },
    {
     "data": {
      "application/vnd.jupyter.widget-view+json": {
       "model_id": "56ff6247bf4c4c619cbbff0ad7ec541e",
       "version_major": 2,
       "version_minor": 0
      },
      "text/plain": [
       "ViewInteractiveWidget(height=2000, layout=Layout(height='auto', width='100%'), width=2000)"
      ]
     },
     "metadata": {},
     "output_type": "display_data"
    },
    {
     "name": "stdout",
     "output_type": "stream",
     "text": [
      "GF( 11 )\n",
      "GF( 11 ): Lexicographic layout\n"
     ]
    },
    {
     "data": {
      "application/vnd.jupyter.widget-view+json": {
       "model_id": "8997876a4b11418e8053b639ded6ccfb",
       "version_major": 2,
       "version_minor": 0
      },
      "text/plain": [
       "ViewInteractiveWidget(height=2000, layout=Layout(height='auto', width='100%'), width=2000)"
      ]
     },
     "metadata": {},
     "output_type": "display_data"
    },
    {
     "name": "stdout",
     "output_type": "stream",
     "text": [
      "GF( 11 ): More structured layout, transparent edges plus dark cluster edges\n"
     ]
    },
    {
     "data": {
      "application/vnd.jupyter.widget-view+json": {
       "model_id": "2893d6c2b0b24e9b836d39603db691bc",
       "version_major": 2,
       "version_minor": 0
      },
      "text/plain": [
       "ViewInteractiveWidget(height=2000, layout=Layout(height='auto', width='100%'), width=2000)"
      ]
     },
     "metadata": {},
     "output_type": "display_data"
    },
    {
     "name": "stdout",
     "output_type": "stream",
     "text": [
      "GF( 11 ): Layer cake, overhead view, transparent edges plus some number of clusters with dark cluster edges\n"
     ]
    },
    {
     "data": {
      "application/vnd.jupyter.widget-view+json": {
       "model_id": "8c46a194b472425196b1c6d368475d9c",
       "version_major": 2,
       "version_minor": 0
      },
      "text/plain": [
       "ViewInteractiveWidget(height=2000, layout=Layout(height='auto', width='100%'), width=2000)"
      ]
     },
     "metadata": {},
     "output_type": "display_data"
    },
    {
     "name": "stdout",
     "output_type": "stream",
     "text": [
      "GF( 11 ): Layer cake, no main edges, two clusters with dark cluster edges and grey edges joining\n"
     ]
    },
    {
     "data": {
      "application/vnd.jupyter.widget-view+json": {
       "model_id": "3ed3eae88dec4eafb2b4cca981994f93",
       "version_major": 2,
       "version_minor": 0
      },
      "text/plain": [
       "ViewInteractiveWidget(height=2000, layout=Layout(height='auto', width='100%'), width=2000)"
      ]
     },
     "metadata": {},
     "output_type": "display_data"
    }
   ],
   "source": [
    "##### these are the prime powers q to be run\n",
    "##### this algorithm is for ODD PRIME POWERS only\n",
    "\n",
    "# Some smaller primes\n",
    "#prime_power_list = [3,5,7,9,11,13,17,19,23,25,27,29,31,37,41,43,47,49,53,59,61]\n",
    "\n",
    "# Primes of interest.\n",
    "# Graphs for these primes support [556,993,2257,3783,16257] routers, having radixes [24,32,48,62,128]. \n",
    "# May want to change the opacity on edges and maybe the line width in the viz.\n",
    "#prime_power_list = [23,31,47,61,127]  \n",
    "\n",
    "prime_power_list = [3,5,7,9,11]\n",
    "\n",
    "for q in prime_power_list:\n",
    "    \n",
    "    print(\"GF(\",q,\")\")\n",
    "    # where to save screenshots\n",
    "    directory = \"./ER_graphs/\"\n",
    "    fn_prefix = directory + \"ER\" + str(q)\n",
    "\n",
    "    # the GF(q) addition and multiplication tables\n",
    "    GFq_add,GFq_mul=make_GFq_arith_table(q)    \n",
    "    num_vertices = q**2+q+1\n",
    "\n",
    "    # the vertex values, in lexicographic order \n",
    "    vertex_value = generate_vertices(q)\n",
    "    # the vertex positions, clockwise around the circle\n",
    "    vertex_position_lex = init_pos(num_vertices)\n",
    "    # the incidence matrix, calculated using the dot product over GF(q)\n",
    "    inc_matrix = incidence_matrix(vertex_value)\n",
    "\n",
    "    # all the vertex position sets that will be visualized\n",
    "    vpos_sets=[]\n",
    "    # all the edge sets, opacities, colors, line widths that will be visualized\n",
    "    edge_sets = []\n",
    "    edge_opacities = []\n",
    "    edge_colors = []\n",
    "    line_widths = []\n",
    "    \n",
    "    # generate the important vector subsets\n",
    "    # L is the arbitary quadric that starts things off\n",
    "    # W is the rest of the quadrics\n",
    "    W = generate_W(inc_matrix)\n",
    "    L,W = generate_quad_0(W)\n",
    "    # C is the set of centers: the vectors that are adjacent to the element in L\n",
    "    # V1 is the set of all other vectors adjacent to some quadric\n",
    "    C,V1 = generate_V1(L, W, inc_matrix)\n",
    "    # V2 is the rest of the vectors, not adjacent to any quadric\n",
    "    V2 = generate_V2(L, W, C, V1, num_vertices)\n",
    "\n",
    "# this is the basic layout with the edges, sets the pointers used throughout\n",
    "    vpos_sets=[]\n",
    "    vpos_sets.append(vertex_position_lex)\n",
    "    vpointers = []\n",
    "    for i in range(len(vertex_position_lex)):\n",
    "        vpointers.append(i)\n",
    "    edges = get_edges(inc_matrix, vpointers)\n",
    "    append_edges(edges, vertex_position_lex, 1, 'black', 1)\n",
    "#     append_edges(edges, vertex_position_lex, 1, 'black', 7) # lex display\n",
    "    \n",
    "# # visualize various layouts\n",
    "\n",
    "    if q<17:\n",
    "        edge_opacities[0] = 0.08\n",
    "    elif q<27:\n",
    "        edge_opacities[0] = 0.04\n",
    "    elif q<47:\n",
    "        edge_opacities[0] = 0.01\n",
    "    elif q<61:\n",
    "        edge_opacities[0] = 0.005\n",
    "    else:\n",
    "        edge_opacities[0] = 0.005\n",
    "    line_widths[0] = 3\n",
    "\n",
    "    # flat views\n",
    "    camera_pos = 'xy'\n",
    "    camera_rot = [0,0,0]\n",
    "    show_labels = False\n",
    "# show the initial lexicographic clockwise layout\n",
    "    print(\"GF(\",q,\"): Lexicographic layout\")\n",
    "    visualize_graph(vertex_value, L, W, C, V1, V2, \n",
    "                    edge_sets, vpos_sets, edge_opacities, edge_colors, line_widths, \n",
    "                    fn_prefix + \"_lex_cw\", camera_pos, camera_rot, show_labels)\n",
    "    \n",
    "# this is the basic \"good\" layout with the edges, used throughout, do not comment out\n",
    "    vertex_position_good = graph_to_clusters_start(q, vertex_position_lex, inc_matrix, L, W, C, V1, V2)\n",
    "    vpos_sets=[]\n",
    "    vpos_sets.append(vertex_position_good)\n",
    "\n",
    "# # show the first graph_to_clusters layout: nicer looking than lexicographic clockwise layout\n",
    "#     print(\"GF(\",q,\"): Structured layout\")\n",
    "#     visualize_graph(vertex_value, L, W, C, V1, V2, edge_sets, vpos_sets, edge_opacities, edge_colors, line_widths, fn_prefix + \"_g2c_1\", camera_pos, camera_rot, show_labels)\n",
    "\n",
    "# cake views\n",
    "    camera_pos = 'zx'\n",
    "    camera_rot = [0,0,20]\n",
    "    show_labels = False\n",
    "# the layer cake, must start with vertex_position_good\n",
    "    vertex_position_cake = graph_layercake_pos(vertex_position_good, L, W, C, V1, V2)  \n",
    "    vpos_sets.append(vertex_position_cake)    # to get the interesting POV on this 3D graph, we have to play with the camera position\n",
    "\n",
    "# # show the layer cake\n",
    "#     print(\"GF(\",q,\"): Layer cake, all edges\")\n",
    "#     visualize_graph(vertex_value, L, W, C, V1, V2, \n",
    "#                      edge_sets, vpos_sets, edge_opacities, edge_colors, line_widths, \n",
    "#                      fn_prefix + \"_cake_1cluster_3D\", camera_pos, camera_rot, show_labels)\n",
    "\n",
    "    clusterpointers = []\n",
    "    # Edges: main cluster, heavy black lines\n",
    "    opacity = 1.0\n",
    "    color = 'black'\n",
    "    linewidth = 3\n",
    "    clustervptrs, clustervpos, clusteredges = get_cluster(inc_matrix, vertex_position_good, L[0], C[0])\n",
    "    clusterpointers.append(clustervptrs)\n",
    "    append_edges(clusteredges, clustervpos, opacity, color, linewidth)\n",
    "    \n",
    "    # Edges: quadric edge in RED\n",
    "    opacity = 1.0\n",
    "    color = RED\n",
    "    linewidth = 4\n",
    "    cluster_index = 0\n",
    "    quad_edge = [[2, L[0], C[cluster_index]]]\n",
    "    quad_pos = [vertex_position_good[L[0]], vertex_position_good[C[cluster_index]]]\n",
    "    append_edges(quad_edge, quad_pos, opacity, color, linewidth)\n",
    "       \n",
    "    print(\"GF(\",q,\"): More structured layout, transparent edges plus dark cluster edges\")\n",
    "    visualize_graph(vertex_value, L, W, C, V1, V2, \n",
    "                    edge_sets, vpos_sets, edge_opacities, edge_colors, line_widths, \n",
    "                    fn_prefix + \"_cake_1cluster_3D\", camera_pos, camera_rot, show_labels)\n",
    "\n",
    "    # Edges: other clusters\n",
    "    #num_clusters = len(C)-1\n",
    "    num_clusters = 1\n",
    "    opacity = 1.0\n",
    "    color = 'black'\n",
    "    linewidth = 3\n",
    "    for i in range(1,num_clusters+1):\n",
    "        clustervptrs, clustervpos, clusteredges = get_cluster(inc_matrix, vertex_position_good, L[0], C[num_clusters-(i+1)])\n",
    "        clusterpointers.append(clustervptrs)\n",
    "        append_edges(clusteredges, clustervpos, opacity, color, linewidth)\n",
    "        \n",
    "#     print(\"GF(\",q,\"): Layer cake, transparent edges plus two clusters with dark cluster edges\")\n",
    "#     visualize_graph(vertex_value, L, W, C, V1, V2, \n",
    "#                     edge_sets, vpos_sets, edge_opacities, edge_colors, line_widths, \n",
    "#                     fn_prefix + \"_cake_allclusters_3D\", camera_pos, camera_rot, show_labels)\n",
    "\n",
    "    print(\"GF(\",q,\"): Layer cake, overhead view, transparent edges plus some number of clusters with dark cluster edges\")\n",
    "    camera_pos = 'xy'\n",
    "    camera_rot = [0,0,180]\n",
    "    visualize_graph(vertex_value, L, W, C, V1, V2, \n",
    "                    edge_sets, vpos_sets, edge_opacities, edge_colors, line_widths, \n",
    "                    fn_prefix + \"_cake_allclusters_3D\", camera_pos, camera_rot, show_labels)\n",
    "    # back to original camera view\n",
    "    camera_pos = 'zx'\n",
    "    camera_rot = [0,0,20]\n",
    "\n",
    "    # Edges: between cluster0 to the V1 elts of cluster1 in GREEN\n",
    "    if (q != 3):\n",
    "    # there are none for q=3\n",
    "        opacity = 1.0\n",
    "        color = GREEN\n",
    "        linewidth = 4\n",
    "        clusterptrs_to_V1 = list(set(clusterpointers[1]) & set(V1))\n",
    "        between_edges = between_ptrsets_edges(inc_matrix, clusterpointers[0], clusterptrs_to_V1)\n",
    "        between_pos = pos_from_pointers(vertex_position_lex, clusterpointers[0]) + pos_from_pointers(vertex_position_lex, clusterptrs_to_V1)\n",
    "        append_edges(between_edges, between_pos, opacity, color, linewidth)\n",
    "    \n",
    "    # Edges: between cluster0 to the V2 elts of cluster1 in BLUE\n",
    "    opacity = 1.0\n",
    "    color = LT_BLUE\n",
    "    linewidth = 4\n",
    "    clusterptrs_to_V2 = list(set(clusterpointers[1]) & set(V2))\n",
    "    between_edges = between_ptrsets_edges(inc_matrix, clusterpointers[0], clusterptrs_to_V2)\n",
    "    between_pos = pos_from_pointers(vertex_position_lex, clusterpointers[0]) + pos_from_pointers(vertex_position_lex, clusterptrs_to_V2)\n",
    "    append_edges(between_edges, between_pos, opacity, color, linewidth)\n",
    "    \n",
    "    # Edges: between cluster0 and W\n",
    "    opacity = 1.0\n",
    "    color = RED\n",
    "    linewidth = 4\n",
    "    Quadrics = W+L\n",
    "    between_quad_ci_edges = between_ptrsets_edges(inc_matrix, clusterpointers[0], Quadrics)\n",
    "    between_quad_ci_pos = Quadrics + list(set(clusterpointers[0]).intersection(set(W)))\n",
    "    append_edges(between_quad_ci_edges, between_quad_ci_pos, opacity, color, linewidth)    \n",
    "    \n",
    "    # make the original edges completely transparent\n",
    "    edge_opacities[0] = 0    \n",
    "    print(\"GF(\",q,\"): Layer cake, no main edges, two clusters with dark cluster edges and grey edges joining\")\n",
    "    visualize_graph(vertex_value, L, W, C, V1, V2, \n",
    "                    edge_sets, vpos_sets, edge_opacities, edge_colors, line_widths, \n",
    "                    fn_prefix + \"_cake_2clusters_edgesbetween_3D\", camera_pos, camera_rot, show_labels)\n",
    "\n"
   ]
  },
  {
   "cell_type": "code",
   "execution_count": null,
   "id": "f7361982",
   "metadata": {},
   "outputs": [],
   "source": []
  },
  {
   "cell_type": "code",
   "execution_count": null,
   "id": "b968ef0b",
   "metadata": {},
   "outputs": [],
   "source": []
  },
  {
   "cell_type": "code",
   "execution_count": null,
   "id": "a40cd4fc",
   "metadata": {},
   "outputs": [],
   "source": []
  }
 ],
 "metadata": {
  "kernelspec": {
   "display_name": "Python 3 (ipykernel)",
   "language": "python",
   "name": "python3"
  },
  "language_info": {
   "codemirror_mode": {
    "name": "ipython",
    "version": 3
   },
   "file_extension": ".py",
   "mimetype": "text/x-python",
   "name": "python",
   "nbconvert_exporter": "python",
   "pygments_lexer": "ipython3",
   "version": "3.9.7"
  }
 },
 "nbformat": 4,
 "nbformat_minor": 5
}
