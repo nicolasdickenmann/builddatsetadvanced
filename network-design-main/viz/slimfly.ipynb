{
 "cells": [
  {
   "cell_type": "code",
   "execution_count": 5,
   "id": "cd9dd1ab",
   "metadata": {
    "scrolled": false
   },
   "outputs": [],
   "source": [
    "# general imports, basic globals\n",
    "\n",
    "import io\n",
    "import sys\n",
    "import subprocess \n",
    "import copy\n",
    "import pandas as pd\n",
    "import numpy as np\n",
    "import pyvista as pv\n",
    "import galois\n",
    "import json\n",
    "\n",
    "# from gfq import *\n",
    "from graph_viz import *\n",
    "from graph_classes import *\n",
    "\n",
    "# Define some colors, for the vertices and edges\n",
    "RED = '#FF0000'\n",
    "DK_RED = '#990000'\n",
    "LT_GREEN = '#44FF44'\n",
    "DK_GREEN = '#009900'\n",
    "LT_BLUE = '#0088FF'\n"
   ]
  },
  {
   "cell_type": "code",
   "execution_count": 6,
   "id": "b74da48d",
   "metadata": {
    "scrolled": false
   },
   "outputs": [],
   "source": [
    "# Slimfly graph\n",
    "\n",
    "\n",
    "# the method set_vertex_list() should be set (the default is just the integers from 0 to num_vert-1)\n",
    "# the method set_adjacency_matrix() MUST be set (the default is all 0s, so no edges)\n",
    "# basic layouts and other defaults are set in the Graph class from graph_viz.py\n",
    "\n",
    "# The basic layout is evenly spaced and clockwise around a circle in order.\n",
    "# If you want anything fancier than the basic layout, inherit from the layout class and do what you want. \n",
    "# See er_graph for an example. Same with colors, line opacity and the like.\n",
    "\n",
    "# visualize_graph() as below should \"just work\", and shows the basic layout with all graph edges.\n",
    "# See er_graph for more parameters for visualize_graph()\n",
    "\n",
    "class SlimflyGraph(Graph):\n",
    "    \n",
    "    def set_vertex_list(self, q):\n",
    "        # in lex order, as defined in the paper\n",
    "        # this sets 2q groups of vertices, in 2 sets\n",
    "        self.q = q\n",
    "        self.GF = galois.GF(self.q)\n",
    "        self.w = int(q/4)\n",
    "        self.delta = q%4\n",
    "        if self.delta==3:\n",
    "            self.delta = -1\n",
    "        num_vert = 2*(q**2)\n",
    "        vertex_list = []\n",
    "        for g0 in range(2):\n",
    "            for g1 in range(q):\n",
    "                for i in range(q):\n",
    "                    vertex_list.append(Vertex([g0,g1,i]))\n",
    "        return vertex_list, num_vert\n",
    "\n",
    "    def set_adjacency_matrix(self):\n",
    "        # adjacency_matrix[i,j] is 1 if vertex_list[i].value is orthogonal to vertex_list[j].value and 0 otherwise\n",
    "        adj_matrix = []\n",
    "        for i in range(self.num_vertices):\n",
    "            row = [0]*self.num_vertices\n",
    "            adj_matrix.append(row)            \n",
    "        self.set_intragroup_connections(adj_matrix)\n",
    "        self.set_intergroup_connections(adj_matrix)\n",
    "        return adj_matrix\n",
    "        \n",
    "    def set_intragroup_connections(self, adj_matrix):\n",
    "        X, X_prime = self.generate_gensets()\n",
    "        for i in range(self.q):\n",
    "            for j in range(1,self.q):\n",
    "                index_j = i*self.q+j\n",
    "                vert_val_j = self.GF(self.vertex_list[index_j].value[2])\n",
    "                for k in range(j):\n",
    "                    index_k = i*self.q+k\n",
    "                    vert_val_k = self.GF(self.vertex_list[index_k].value[2])\n",
    "                    if (vert_val_j-vert_val_k) in X:\n",
    "                        adj_matrix[index_j][index_k] = 1\n",
    "                        adj_matrix[index_k][index_j] = 1\n",
    "        for i in range(self.q, 2*self.q):\n",
    "            for j in range(1,self.q):\n",
    "                index_j = i*self.q+j\n",
    "                vert_val_j = self.GF(self.vertex_list[index_j].value[2])\n",
    "                for k in range(j):\n",
    "                    index_k = i*self.q+k\n",
    "                    vert_val_k = self.GF(self.vertex_list[index_k].value[2])\n",
    "                    if (vert_val_j-vert_val_k) in X_prime:\n",
    "                        adj_matrix[index_j][index_k] = 1\n",
    "                        adj_matrix[index_k][index_j] = 1\n",
    "\n",
    "    def generate_gensets(self):\n",
    "        prim_elt = self.GF.primitive_elements[0]\n",
    "        prim_elt_squared = prim_elt*prim_elt\n",
    "        X = [self.GF(1)]\n",
    "        X_prime = [prim_elt]\n",
    "        if q%4==0:\n",
    "            gen_limit = 2*int(self.q/4)-1\n",
    "            for i in range(gen_limit):\n",
    "                X.append(X[i]*prim_elt_squared)\n",
    "                X_prime.append(X_prime[i]*prim_elt_squared)\n",
    "        else:\n",
    "            neg_1 = self.GF(0) - self.GF(1)\n",
    "            gen_limit = int(round(self.q/4))-1\n",
    "            for i in range(gen_limit):\n",
    "                X.append(X[i]*prim_elt_squared)\n",
    "                X_prime.append(X_prime[i]*prim_elt_squared)\n",
    "            for i in range(gen_limit+1):\n",
    "                X.append(neg_1*X[i])\n",
    "                X_prime.append(neg_1*X_prime[i])\n",
    "        return X, X_prime\n",
    " \n",
    "    def set_intergroup_connections(self, adj_matrix):\n",
    "        for x in range(self.q):\n",
    "            X = self.GF(x)\n",
    "            for m in range(self.q):\n",
    "                M = self.GF(m)\n",
    "                for c in range(self.q):\n",
    "                    C = self.GF(c)\n",
    "                    y = json.loads(str(M*X+C))\n",
    "                    i = self.get_index(Vertex([0,x,y]))\n",
    "                    j = self.get_index(Vertex([1,m,c]))\n",
    "                    adj_matrix[i][j] = 1\n",
    "                    adj_matrix[j][i] = 1\n",
    "                \n",
    "    def get_index(self, vertex):\n",
    "        return (self.q**2)*vertex.value[0] + (self.q)*vertex.value[1] + vertex.value[2]\n",
    "                     \n",
    "    def set_layouts(self):\n",
    "        self.layouts = SF_Layouts(self)\n",
    "    "
   ]
  },
  {
   "cell_type": "code",
   "execution_count": 7,
   "id": "b2bdea3f",
   "metadata": {},
   "outputs": [],
   "source": [
    "class SF_Layouts(Layouts):\n",
    "    \n",
    "    def set_layouts_SF(self): \n",
    "    # in addition to the clockwise default\n",
    "        self.add_layout(self.interspersed_layout(), 'interspersed') \n",
    "        self.add_layout(self.HS_layout(), 'HS') \n",
    "        self.add_layout(self.drawer_layout(), 'cakedrawer') \n",
    "        return self.layout_list, self.layout_names\n",
    "            \n",
    "    def interspersed_layout(self):\n",
    "        vpos_list = []\n",
    "        q = self.graph.q\n",
    "        for i in range(self.graph.num_vertices):\n",
    "            index = self.graph.vertex_list[i].value[0] + 2*q*self.graph.vertex_list[i].value[1] + 2*self.graph.vertex_list[i].value[2]\n",
    "            vpos_list.append(self.graph.vertex_list[index].pos[0])\n",
    "        return vpos_list\n",
    "\n",
    "    def HS_layout(self):\n",
    "        # drawers as in the SF paper\n",
    "        vpos_list = self.graph.num_vertices*[0,0,0]\n",
    "        q = self.graph.q\n",
    "        # the pentagons [0,x,y]\n",
    "        for i in range(q):\n",
    "            for j in range(q):\n",
    "                vpos_list[i*q+j] = copy.deepcopy(self.graph.vertex_list[2*(j*q+i)].pos[0])\n",
    "        # the stars [1,m,c]\n",
    "        for i in range(q):\n",
    "            for j in range(q):\n",
    "                vpos_list[q**2+i*q+j] = copy.deepcopy(self.graph.vertex_list[(2*(j*q+i)-4)%(2*(q**2))].pos[0])\n",
    "                for k in range(3):\n",
    "                    vpos_list[q**2+i*q+j][k] *= np.sqrt(0.25)\n",
    "        return vpos_list\n",
    "\n",
    "    def drawer_layout(self):\n",
    "        # drawers as in the SF paper\n",
    "        vpos_list = self.graph.num_vertices*[0,0,0]\n",
    "        q = self.graph.q\n",
    "        for i in range(q):\n",
    "            for j in range(q):\n",
    "                vpos_list[i*q+j] = copy.deepcopy(self.graph.vertex_list[i*2*q+j].pos[0])\n",
    "        for i in range(q):\n",
    "            for j in range(q):\n",
    "                vpos_list[q**2+i*q+j] = copy.deepcopy(self.graph.vertex_list[i*2*q+j].pos[0])\n",
    "                vpos_list[q**2+i*q+j][2] = 0.5\n",
    "        return vpos_list\n"
   ]
  },
  {
   "cell_type": "code",
   "execution_count": 9,
   "id": "93127487",
   "metadata": {
    "scrolled": false
   },
   "outputs": [
    {
     "name": "stdout",
     "output_type": "stream",
     "text": [
      "6\n",
      "SlimFly(49): SlimFly graph, Hoffman-Singleton-inspired layout\n"
     ]
    },
    {
     "data": {
      "application/vnd.jupyter.widget-view+json": {
       "model_id": "afa8d69effc24e4f87539f9a9656d2e1",
       "version_major": 2,
       "version_minor": 0
      },
      "text/plain": [
       "ViewInteractiveWidget(height=2000, layout=Layout(height='auto', width='100%'), width=2000)"
      ]
     },
     "metadata": {},
     "output_type": "display_data"
    },
    {
     "name": "stdout",
     "output_type": "stream",
     "text": [
      "SlimFly(49): SlimFly graph, cake drawer layout\n"
     ]
    },
    {
     "data": {
      "application/vnd.jupyter.widget-view+json": {
       "model_id": "634af21e6ab444f796bcca48f65f6328",
       "version_major": 2,
       "version_minor": 0
      },
      "text/plain": [
       "ViewInteractiveWidget(height=2000, layout=Layout(height='auto', width='100%'), width=2000)"
      ]
     },
     "metadata": {},
     "output_type": "display_data"
    },
    {
     "name": "stdout",
     "output_type": "stream",
     "text": [
      "SlimFly(64): SlimFly graph, Hoffman-Singleton-inspired layout\n"
     ]
    },
    {
     "data": {
      "application/vnd.jupyter.widget-view+json": {
       "model_id": "c571e5b3e35646a6988ab84a62a76467",
       "version_major": 2,
       "version_minor": 0
      },
      "text/plain": [
       "ViewInteractiveWidget(height=2000, layout=Layout(height='auto', width='100%'), width=2000)"
      ]
     },
     "metadata": {},
     "output_type": "display_data"
    },
    {
     "name": "stdout",
     "output_type": "stream",
     "text": [
      "SlimFly(64): SlimFly graph, cake drawer layout\n"
     ]
    },
    {
     "data": {
      "application/vnd.jupyter.widget-view+json": {
       "model_id": "0b730b2285e0439281c68afcf3f8a4a9",
       "version_major": 2,
       "version_minor": 0
      },
      "text/plain": [
       "ViewInteractiveWidget(height=2000, layout=Layout(height='auto', width='100%'), width=2000)"
      ]
     },
     "metadata": {},
     "output_type": "display_data"
    }
   ],
   "source": [
    "##    these are the prime powers q to be run         ##### \n",
    "#####    this algorithm is for ODD PRIME POWERS only    ##### \n",
    "\n",
    "# Here are some smaller prime powers\n",
    "#prime_power_list = [2,3,4,5,7,8,9,11,13,16,17,19,23,25,27,29,31,32,37,41,43,47,49,53,59,61,64]\n",
    "\n",
    "# These primes are of interest.\n",
    "# Graphs for these primes support [722,3362,13778,55778] routers that have radixes > [29,61,125,251]. \n",
    "# May want to change the opacity on edges and maybe the line width in the viz.\n",
    "#prime_power_list = [19,41,83,167]  \n",
    "\n",
    "prime_powers = [49,64]\n",
    "\n",
    "for q in prime_powers:\n",
    "    sf_graph = SlimflyGraph(q)\n",
    "    layout_list, layout_names = sf_graph.layouts.set_layouts_SF()\n",
    "    if q < 11:\n",
    "        sf_graph.edges_list.list[0].opacity = 0.4\n",
    "        for i in range(sf_graph.num_vertices):\n",
    "            sf_graph.vertex_list[i].size = 20\n",
    "    if q < 11:\n",
    "        sf_graph.edges_list.list[0].opacity = 0.2\n",
    "        for i in range(sf_graph.num_vertices):\n",
    "            sf_graph.vertex_list[i].size = 10\n",
    "    elif q < 23:\n",
    "        sf_graph.edges_list.list[0].opacity = 0.1\n",
    "        for i in range(sf_graph.num_vertices):\n",
    "            sf_graph.vertex_list[i].size = 7\n",
    "    elif q < 28:\n",
    "        sf_graph.edges_list.list[0].opacity = 0.04\n",
    "        for i in range(sf_graph.num_vertices):\n",
    "            sf_graph.vertex_list[i].size = 5\n",
    "    elif q < 51:\n",
    "        sf_graph.edges_list.list[0].opacity = 0.01\n",
    "        for i in range(sf_graph.num_vertices):\n",
    "            sf_graph.vertex_list[i].size = 2\n",
    "    else:\n",
    "        sf_graph.edges_list.list[0].opacity = 0.005\n",
    "        for i in range(sf_graph.num_vertices):\n",
    "            sf_graph.vertex_list[i].size = 1\n",
    "\n",
    "# visualize_graph(graph, layout, edge_displaylist, camera_pos, camera_rot, show_labels, fname, caption)\n",
    "# layouts: ['default', 'another', 'cakedrawer']\n",
    "# edgelists: ['all_edges']\n",
    "\n",
    "#     visualize_graph(sf_graph, 'default', \n",
    "#                     ['all_edges'], \n",
    "#                      'xy', [0,0,0], False,\n",
    "#                      \"./SF_graphs/SF\" + str(q) + \"_default\", \n",
    "#                     'SlimFly('+str(q)+'): SlimFly graph, default layout')\n",
    "    \n",
    "#     visualize_graph(sf_graph, 'interspersed', \n",
    "#                     ['all_edges'], \n",
    "#                      'xy', [0,0,0], False,\n",
    "#                      \"./SF_graphs/SF\" + str(q) + \"_interspersed\", \n",
    "#                     'SlimFly('+str(q)+'): SlimFly graph, interspersed layout')\n",
    "    \n",
    "    visualize_graph(sf_graph, 'HS', \n",
    "                    ['all_edges'], \n",
    "                     'xy', [0,0,0], False,\n",
    "                     \"./SF_graphs/SF\" + str(q) + \"_HS\", \n",
    "                    'SlimFly('+str(q)+'): SlimFly graph, Hoffman-Singleton-inspired layout')\n",
    "    \n",
    "    visualize_graph(sf_graph, 'cakedrawer', \n",
    "                    ['all_edges'], \n",
    "                     'zx', [0,0,45], False,\n",
    "                     \"./SF_graphs/SF\" + str(q) + \"_cakedrawer\", \n",
    "                    'SlimFly('+str(q)+'): SlimFly graph, cake drawer layout')\n",
    "    \n"
   ]
  },
  {
   "cell_type": "code",
   "execution_count": null,
   "id": "d4a6676d",
   "metadata": {},
   "outputs": [],
   "source": []
  },
  {
   "cell_type": "code",
   "execution_count": null,
   "id": "6da2aea7",
   "metadata": {},
   "outputs": [],
   "source": []
  },
  {
   "cell_type": "code",
   "execution_count": null,
   "id": "b1db5543",
   "metadata": {},
   "outputs": [],
   "source": []
  }
 ],
 "metadata": {
  "kernelspec": {
   "display_name": "Python 3 (ipykernel)",
   "language": "python",
   "name": "python3"
  },
  "language_info": {
   "codemirror_mode": {
    "name": "ipython",
    "version": 3
   },
   "file_extension": ".py",
   "mimetype": "text/x-python",
   "name": "python",
   "nbconvert_exporter": "python",
   "pygments_lexer": "ipython3",
   "version": "3.9.7"
  }
 },
 "nbformat": 4,
 "nbformat_minor": 5
}
